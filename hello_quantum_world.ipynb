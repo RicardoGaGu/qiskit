{
 "cells": [
  {
   "cell_type": "markdown",
   "metadata": {},
   "source": [
    "### IBM did amazing job with their notebooks (links below)! \n",
    "### Can't top that. So here's my smallest possible example of what might be considered quantum computing.\n"
   ]
  },
  {
   "cell_type": "code",
   "execution_count": 1,
   "metadata": {
    "collapsed": false
   },
   "outputs": [
    {
     "data": {
      "text/plain": [
       "{'00': 516, '11': 508}"
      ]
     },
     "execution_count": 1,
     "metadata": {},
     "output_type": "execute_result"
    }
   ],
   "source": [
    "# BOILERPLATE\n",
    "from qiskit import QuantumProgram\n",
    "qp = QuantumProgram()\n",
    "qr = qp.create_quantum_register('qr', 2)\n",
    "cr = qp.create_classical_register('cr', 2)\n",
    "qc = qp.create_circuit('qc', [qr], [cr])\n",
    "\n",
    "# PROGRAM LOGIC\n",
    "# PUT Q-BIT-0 INTO RANDOM STATE\n",
    "qc.h(qr[0])\n",
    "# ENTANGLE Q-BIT-0 WITH Q-BIT-1\n",
    "qc.cx(qr[0], qr[1])\n",
    "\n",
    "\n",
    "# BOILERPLATE\n",
    "qc.measure(qr[0], cr[0])\n",
    "qc.measure(qr[1], cr[1])\n",
    "circuit_name = list(qp.get_circuit_names())[0]\n",
    "backend = 'local_qasm_simulator' \n",
    "out = qp.execute([circuit_name], backend, wait=2, timeout=240)\n",
    "\n",
    "# GET RESULT - WE CAN SEE THAT WHENEVER FIRST BIT IS \"0\", SECOND IS \"0\", AND SAME FOR \"1\"\n",
    "out.get_counts(circuit_name)"
   ]
  },
  {
   "cell_type": "markdown",
   "metadata": {},
   "source": [
    "## Compare this with the same example, where we don't entangle qbits."
   ]
  },
  {
   "cell_type": "code",
   "execution_count": 2,
   "metadata": {
    "collapsed": false
   },
   "outputs": [
    {
     "data": {
      "text/plain": [
       "{'00': 248, '01': 273, '10': 235, '11': 268}"
      ]
     },
     "execution_count": 2,
     "metadata": {},
     "output_type": "execute_result"
    }
   ],
   "source": [
    "# BOILERPLATE\n",
    "qp = QuantumProgram()\n",
    "qr = qp.create_quantum_register('qr', 2)\n",
    "cr = qp.create_classical_register('cr', 2)\n",
    "qc = qp.create_circuit('qc', [qr], [cr])\n",
    "\n",
    "\n",
    "# PROGRAM LOGIC\n",
    "# PUT Q-BIT-0 INTO RANDOM STATE\n",
    "qc.h(qr[0])\n",
    "# PUT Q-BIT-1 INTO RANDOM STATE TOO\n",
    "qc.h(qr[1])\n",
    "\n",
    "\n",
    "# BOILERPLATE\n",
    "qc.measure(qr[0], cr[0])\n",
    "qc.measure(qr[1], cr[1])\n",
    "circuit_name = list(qp.get_circuit_names())[0]\n",
    "backend = 'local_qasm_simulator' \n",
    "out = qp.execute([circuit_name], backend, wait=2, timeout=240)\n",
    "\n",
    "# SO THIS TIME FIRST BIT IS COMPLETELY INDEPENDENT OF THE SECOND ONE!\n",
    "out.get_counts(circuit_name)"
   ]
  },
  {
   "cell_type": "markdown",
   "metadata": {},
   "source": [
    "For some cool examples check out these `IBM`s examples:\n",
    "\n",
    "[Battleship on qbits](qiskit-tutorial/5_games/Battleships_with_partial_NOT_gates.ipynb)\n",
    "\n",
    "[Quantum Teleportation](qiskit-tutorial/2_quantum_information/quantum_teleportation.ipynb)\n",
    "\n",
    "But of course if you want to do things properly start with their guide! Good Luck!\n",
    "\n",
    "[START HERE!](qiskit-tutorial/index.ipynb)"
   ]
  },
  {
   "cell_type": "markdown",
   "metadata": {},
   "source": [
    "### NOTE\n",
    "you would need to configure \"APItoken\" to run any of this on a real IMB Qbit machine - get your token from their website\n",
    "\n",
    "then paste it in the cell below and run the cell"
   ]
  },
  {
   "cell_type": "code",
   "execution_count": null,
   "metadata": {
    "collapsed": true
   },
   "outputs": [],
   "source": [
    "%%writefile /repos/qiskit-sdk-py/Qconfig.py\n",
    "\n",
    "APItoken = \"__YOUR__TOKEN__HERE__\"\n",
    "\n",
    "config = {\n",
    "  \"url\": 'https://quantumexperience.ng.bluemix.net/api'\n",
    "}"
   ]
  }
 ],
 "metadata": {
  "anaconda-cloud": {},
  "kernelspec": {
   "display_name": "Python [conda env:py36]",
   "language": "python",
   "name": "conda-env-py36-py"
  },
  "language_info": {
   "codemirror_mode": {
    "name": "ipython",
    "version": 3
   },
   "file_extension": ".py",
   "mimetype": "text/x-python",
   "name": "python",
   "nbconvert_exporter": "python",
   "pygments_lexer": "ipython3",
   "version": "3.6.1"
  }
 },
 "nbformat": 4,
 "nbformat_minor": 2
}
